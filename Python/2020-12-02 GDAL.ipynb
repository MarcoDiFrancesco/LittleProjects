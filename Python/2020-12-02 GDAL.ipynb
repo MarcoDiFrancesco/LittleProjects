{
 "metadata": {
  "language_info": {
   "codemirror_mode": {
    "name": "ipython",
    "version": 3
   },
   "file_extension": ".py",
   "mimetype": "text/x-python",
   "name": "python",
   "nbconvert_exporter": "python",
   "pygments_lexer": "ipython3",
   "version": "3.9.0-final"
  },
  "orig_nbformat": 2,
  "kernelspec": {
   "name": "python3",
   "display_name": "Python 3"
  }
 },
 "nbformat": 4,
 "nbformat_minor": 2,
 "cells": [
  {
   "cell_type": "code",
   "execution_count": 21,
   "metadata": {},
   "outputs": [],
   "source": [
    "from osgeo import gdal\n",
    "\n",
    "filename = \"/home/marco/Downloads/file_example_TIFF_10MB.tiff\"\n",
    "dataset = gdal.Open(filename, gdal.GA_ReadOnly)\n",
    "if not dataset:\n",
    "    print(\"No dataset\")"
   ]
  },
  {
   "cell_type": "code",
   "execution_count": 26,
   "metadata": {},
   "outputs": [
    {
     "output_type": "execute_result",
     "data": {
      "text/plain": [
       "(1950, 1301)"
      ]
     },
     "metadata": {},
     "execution_count": 26
    }
   ],
   "source": [
    "# Raster size\n",
    "dataset.RasterXSize, dataset.RasterYSize"
   ]
  },
  {
   "cell_type": "code",
   "execution_count": 29,
   "metadata": {},
   "outputs": [
    {
     "output_type": "execute_result",
     "data": {
      "text/plain": [
       "{'TIFFTAG_DOCUMENTNAME': '/home/marta/Desktop/www/file ex/files/grafa/tiff/file_example_TIFF.tiff',\n",
       " 'TIFFTAG_RESOLUTIONUNIT': '2 (pixels/inch)',\n",
       " 'TIFFTAG_XRESOLUTION': '72.009003',\n",
       " 'TIFFTAG_YRESOLUTION': '72.009003'}"
      ]
     },
     "metadata": {},
     "execution_count": 29
    }
   ],
   "source": [
    "dataset.GetMetadata()"
   ]
  },
  {
   "cell_type": "code",
   "execution_count": 31,
   "metadata": {},
   "outputs": [
    {
     "output_type": "stream",
     "name": "stdout",
     "text": [
      "\n"
     ]
    }
   ],
   "source": [
    "dataset.GetProjection()"
   ]
  }
 ]
}