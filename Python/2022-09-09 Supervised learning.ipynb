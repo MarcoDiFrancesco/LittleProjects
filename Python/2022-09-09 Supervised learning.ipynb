{
 "cells": [
  {
   "cell_type": "code",
   "execution_count": 13,
   "metadata": {},
   "outputs": [
    {
     "name": "stdout",
     "output_type": "stream",
     "text": [
      "Shape (442, 10) (442,)\n",
      "Train score: -3.1244954738575075, Test score: -3.8491197521626574\n",
      "My RMSE 166.13637311857883 , Scikit RMSE 166.13637311857883\n"
     ]
    }
   ],
   "source": [
    "import numpy as np\n",
    "from sklearn.datasets import load_diabetes\n",
    "from sklearn.metrics import mean_squared_error\n",
    "from sklearn.linear_model import LinearRegression\n",
    "from matplotlib import pyplot as plt\n",
    "# load the data\n",
    "X, y = load_diabetes(return_X_y=True)\n",
    "print(\"Shape\", X.shape, y.shape)\n",
    "# division into training and testing\n",
    "np.random.seed(42)\n",
    "order = np.random.permutation(len(y))\n",
    "tst = np.sort(order[:221])\n",
    "tr = np.sort(order[221:])\n",
    "Xtr = X[tr, :]\n",
    "Xtst = X[tst, :]\n",
    "Ytr = y[tr]\n",
    "Ytst = y[tst]\n",
    "\n",
    "# assume that the test data is not known during the training stage\n",
    "reg = LinearRegression(fit_intercept=False)\n",
    "reg.fit(Xtr, Ytr)\n",
    "# TODO: REMOVE TRAIN ON TEST DATA\n",
    "# reg.fit(Xtst, Ytst)\n",
    "\n",
    "print(f\"Train score: {reg.score(Xtr, Ytr)}, Test score: {reg.score(Xtst, Ytst)}\")\n",
    "\n",
    "Ytst_pred = reg.predict(Xtst)\n",
    "my_rmse = np.sqrt(((Ytst - Ytst_pred) ** 2).mean())\n",
    "print(\"My RMSE\", mean_squared_error(Ytst, Ytst_pred, squared=False), \", Scikit RMSE\", my_rmse)"
   ]
  },
  {
   "cell_type": "code",
   "execution_count": 4,
   "metadata": {},
   "outputs": [
    {
     "name": "stdout",
     "output_type": "stream",
     "text": [
      "27601.294472995647\n"
     ]
    }
   ],
   "source": [
    "lr = LinearRegression(fit_intercept=False)\n",
    "lr.fit(Xtr, Ytr)\n",
    "Ytsthat = lr.predict(Xtst)\n",
    "\n",
    "rmse = np.sqrt(mean_squared_error(Ytst, Ytsthat))\n",
    "print(rmse)"
   ]
  }
 ],
 "metadata": {
  "kernelspec": {
   "display_name": "Python 3.10.6 ('.venv': venv)",
   "language": "python",
   "name": "python3"
  },
  "language_info": {
   "codemirror_mode": {
    "name": "ipython",
    "version": 3
   },
   "file_extension": ".py",
   "mimetype": "text/x-python",
   "name": "python",
   "nbconvert_exporter": "python",
   "pygments_lexer": "ipython3",
   "version": "3.10.6"
  },
  "orig_nbformat": 4,
  "vscode": {
   "interpreter": {
    "hash": "754e38a88f7e023f408a9b14ffb1d7ab4cfb40d909f98ba34f6a81e4ecbf2d8e"
   }
  }
 },
 "nbformat": 4,
 "nbformat_minor": 2
}
