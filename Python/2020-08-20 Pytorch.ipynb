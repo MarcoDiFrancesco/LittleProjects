{
 "metadata": {
  "language_info": {
   "codemirror_mode": {
    "name": "ipython",
    "version": 3
   },
   "file_extension": ".py",
   "mimetype": "text/x-python",
   "name": "python",
   "nbconvert_exporter": "python",
   "pygments_lexer": "ipython3",
   "version": "3.8.6-final"
  },
  "orig_nbformat": 2,
  "kernelspec": {
   "name": "python3",
   "display_name": "Python 3"
  }
 },
 "nbformat": 4,
 "nbformat_minor": 2,
 "cells": [
  {
   "cell_type": "code",
   "execution_count": 1,
   "metadata": {},
   "outputs": [
    {
     "output_type": "execute_result",
     "data": {
      "text/plain": [
       "torch.Size([4, 3, 2, 2])"
      ]
     },
     "metadata": {},
     "execution_count": 1
    }
   ],
   "source": [
    "# Create pytorch tensor using numpy arrays\n",
    "import torch\n",
    "import numpy as np\n",
    "\n",
    "x = np.array(([1, 2], [3, 4]))\n",
    "x = np.array((x, x, x))\n",
    "x = np.array((x, x, x, x))\n",
    "x = torch.tensor(x)\n",
    "x.size()"
   ]
  },
  {
   "cell_type": "code",
   "execution_count": 8,
   "metadata": {
    "tags": []
   },
   "outputs": [
    {
     "output_type": "stream",
     "name": "stdout",
     "text": "torch.Size([3, 2, 2])\ntorch.Size([3, 2, 2])\ntorch.Size([3, 2, 2])\ntorch.Size([3, 2, 2])\n"
    }
   ],
   "source": [
    "for n in x:\n",
    "    print(n.size())"
   ]
  },
  {
   "cell_type": "code",
   "execution_count": 69,
   "metadata": {
    "tags": []
   },
   "outputs": [
    {
     "output_type": "stream",
     "name": "stdout",
     "text": "Only tensor torch.Size([2, 4])\nUnqueeze 0 torch.Size([1, 2, 4])\nUnqueeze 1 torch.Size([2, 1, 4])\nUnqueeze 2 torch.Size([2, 4, 1])\nUnqueeze 2 torch.Size([2, 1, 4])\n"
    }
   ],
   "source": [
    "# I don't understand what unsqueeze\n",
    "x = torch.tensor(([1, 2, 3, 4], [5, 6, 7, 8]))\n",
    "print(\"Only tensor\", x.size())\n",
    "a = torch.unsqueeze(x, 0)\n",
    "print(\"Unqueeze 0\", a.size())\n",
    "a = torch.unsqueeze(x, 1)\n",
    "print(\"Unqueeze 1\", a.size())\n",
    "a = torch.unsqueeze(x, 2)\n",
    "print(\"Unqueeze 2\", a.size())\n"
   ]
  }
 ]
}